{
 "cells": [
  {
   "cell_type": "code",
   "execution_count": 9,
   "metadata": {},
   "outputs": [],
   "source": [
    "import os\n",
    "from merge_sensor_data_step1 import load_station_data, load_township_polygons, add_township_info, process_years\n",
    "import pandas as pd\n",
    "\n",
    "# 設定輸出 txt 檔名\n",
    "base_path = \"../dataset/sensor\"\n",
    "missing_locations_all_years_path = \"missing_locations_all_years.txt\""
   ]
  },
  {
   "cell_type": "code",
   "execution_count": 10,
   "metadata": {},
   "outputs": [],
   "source": [
    "def txt_to_dict(file_path):\n",
    "    data_dict = {}\n",
    "    with open(file_path, 'r', encoding='utf-8') as f:\n",
    "        for line in f:\n",
    "            line = line.strip()\n",
    "            if not line:  # 過濾空白行\n",
    "                continue\n",
    "            # 使用冒號分割 key 與 value\n",
    "            key, value_str = line.split(\":\", 1)\n",
    "            # 去除左右空白並移除中括號\n",
    "            value_str = value_str.strip().strip(\"[]\")\n",
    "            values = []\n",
    "            for num in value_str.split(\",\"):\n",
    "                num = num.strip()\n",
    "                # 檢查是否為 \"None\"\n",
    "                if num == \"None\":\n",
    "                    values.append(None)\n",
    "                else:\n",
    "                    try:\n",
    "                        values.append(float(num))\n",
    "                    except ValueError:\n",
    "                        print(f\"警告：無法將 {num} 轉換成 float\")\n",
    "            data_dict[key] = values\n",
    "    return data_dict"
   ]
  },
  {
   "cell_type": "code",
   "execution_count": 11,
   "metadata": {},
   "outputs": [],
   "source": [
    "def fill_missing_lon_lat(year, missing_locations_all_years):\n",
    "    file_name = f\"flood_data_{year}_merged.csv\"\n",
    "    df = pd.read_csv(os.path.join(base_path, file_name))\n",
    "\n",
    "    # 建立經度與緯度的 mapping 字典\n",
    "    longitude_map = {k: v[0] for k, v in missing_locations_all_years.items()}\n",
    "    latitude_map = {k: v[1] for k, v in missing_locations_all_years.items()}\n",
    "\n",
    "    # 利用 map 方法，若 PQ_fullname 存在於 mapping 中，則用 mapping 的值，否則保留原值\n",
    "    df['Longitude'] = df['PQ_fullname'].map(longitude_map).fillna(df['Longitude'])\n",
    "    df['Latitude'] = df['PQ_fullname'].map(latitude_map).fillna(df['Latitude'])\n",
    "    \n",
    "    polygons = load_township_polygons()\n",
    "    df = add_township_info(df, polygons)\n",
    "    df = df.dropna(subset=[\"TOWNNAME\"])\n",
    "    \n",
    "    df.loc[df['value'] < 0, 'value'] = 0\n",
    "    return df"
   ]
  },
  {
   "cell_type": "code",
   "execution_count": 12,
   "metadata": {},
   "outputs": [],
   "source": [
    "missing_locations_all_years = txt_to_dict(os.path.join(base_path, missing_locations_all_years_path))\n",
    "\n",
    "for year in range(2019, 2026):\n",
    "    merged_df = process_years(base_path, year)\n",
    "    # if you already have the df, then\n",
    "    # merged_df = pd.read_csv(os.path.join(base_path, f\"flood_data_{year}_merged.csv\"))\n",
    "    merged_df = fill_missing_lon_lat(year, missing_locations_all_years)\n",
    "    merged_df.to_csv(os.path.join(base_path, f\"flood_data_{year}_merged_filled.csv\"))"
   ]
  }
 ],
 "metadata": {
  "kernelspec": {
   "display_name": "formosa",
   "language": "python",
   "name": "python3"
  },
  "language_info": {
   "codemirror_mode": {
    "name": "ipython",
    "version": 3
   },
   "file_extension": ".py",
   "mimetype": "text/x-python",
   "name": "python",
   "nbconvert_exporter": "python",
   "pygments_lexer": "ipython3",
   "version": "3.11.11"
  }
 },
 "nbformat": 4,
 "nbformat_minor": 2
}
